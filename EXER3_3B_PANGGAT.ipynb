{
  "nbformat": 4,
  "nbformat_minor": 0,
  "metadata": {
    "colab": {
      "provenance": []
    },
    "kernelspec": {
      "name": "python3",
      "display_name": "Python 3"
    },
    "language_info": {
      "name": "python"
    }
  },
  "cells": [
    {
      "cell_type": "code",
      "execution_count": null,
      "metadata": {
        "id": "ZqKSDmZEEevi"
      },
      "outputs": [],
      "source": [
        "\n",
        "import pandas as pd\n",
        "import numpy as np\n",
        "import matplotlib.pyplot as plt\n",
        "import seaborn as sns\n",
        "from sklearn.model_selection import train_test_split\n",
        "from sklearn.preprocessing import StandardScaler\n",
        "from sklearn.metrics import accuracy_score, confusion_matrix, classification_report\n",
        "from sklearn.ensemble import RandomForestClassifier"
      ]
    },
    {
      "cell_type": "markdown",
      "source": [
        "# **Part 1. Defining the Problem and System Design**"
      ],
      "metadata": {
        "id": "lJKwZvAwEpjd"
      }
    },
    {
      "cell_type": "markdown",
      "source": [
        "1. Select a Disease for Diagnosis\n",
        "Choose a disease that your AI system will predict (e.g., diabetes, heart disease, or a viral infection).\n",
        "\n",
        "\n",
        "**Question:** What disease did you choose, and what factors (symptoms, test results) contribute to diagnosing this diseases?\n",
        "\n",
        "**Answer:**\n",
        "\n",
        "Disease: **Viral infection**\n",
        "\n",
        "Contributing Factors: **Symptoms**"
      ],
      "metadata": {
        "id": "bheX9baDGDye"
      }
    },
    {
      "cell_type": "markdown",
      "source": [
        "# **Part 2. Basic Probability Calculations**"
      ],
      "metadata": {
        "id": "mbb_dxp4HQXN"
      }
    },
    {
      "cell_type": "code",
      "source": [
        "P_disease = 0.02;\n",
        "P_has_disease = 0.95;\n",
        "P_no_disease = 0.05;\n",
        "\n",
        "P_positive = 0.06;\n",
        "\n",
        "P_result = (P_positive * P_disease) / P_positive;\n",
        "print(\"Posterior Probability:\", P_result);"
      ],
      "metadata": {
        "colab": {
          "base_uri": "https://localhost:8080/"
        },
        "id": "zZafhJdlGHhk",
        "outputId": "39c364e0-ea88-4f42-fbdb-aff50e5d2074"
      },
      "execution_count": null,
      "outputs": [
        {
          "output_type": "stream",
          "name": "stdout",
          "text": [
            "Posterior Probability: 0.02\n"
          ]
        }
      ]
    },
    {
      "cell_type": "markdown",
      "source": [
        "# **Part 3. Decision-Making Simulation**"
      ],
      "metadata": {
        "id": "zfRtWEdyKEmA"
      }
    },
    {
      "cell_type": "code",
      "source": [
        "P_success = 0.7;\n",
        "P_failure = 0.3;\n",
        "P_benefit = 100;\n",
        "P_loss = 50;\n",
        "\n",
        "P_success_benefit = P_success * P_benefit + P_failure * P_loss;\n",
        "print(\"Expected Improvement:\", P_success_benefit);\n",
        "\n"
      ],
      "metadata": {
        "colab": {
          "base_uri": "https://localhost:8080/"
        },
        "id": "8IuS_i5-KJ29",
        "outputId": "0b6a1311-7e61-4380-e55d-026d7e430b87"
      },
      "execution_count": null,
      "outputs": [
        {
          "output_type": "stream",
          "name": "stdout",
          "text": [
            "Expected Improvement: 85.0\n"
          ]
        }
      ]
    },
    {
      "cell_type": "markdown",
      "source": [
        "# **Part 4. Visualize a Probability Distrubution**"
      ],
      "metadata": {
        "id": "vrlrd2xYLzI2"
      }
    },
    {
      "cell_type": "code",
      "source": [
        "import matplotlib.pyplot as plt\n",
        "from scipy.stats import binom\n",
        "\n",
        "flips = 5;\n",
        "heads = 0.5;\n",
        "\n",
        "x = np.arange(0, flips + 1);\n",
        "result = binom.pmf(x, flips, heads);\n",
        "\n",
        "plt.title(\"Probability of getting heads in 5 coin tosses\")\n",
        "plt.xlabel(\"Number of heads\")\n",
        "plt.ylabel(\"Probability\")\n",
        "plt.xticks(x)\n",
        "plt.bar(x, result)"
      ],
      "metadata": {
        "colab": {
          "base_uri": "https://localhost:8080/",
          "height": 489
        },
        "id": "GBdFLVbxL6Uo",
        "outputId": "01fc3019-3594-439f-9a4a-786766a67284"
      },
      "execution_count": null,
      "outputs": [
        {
          "output_type": "execute_result",
          "data": {
            "text/plain": [
              "<BarContainer object of 6 artists>"
            ]
          },
          "metadata": {},
          "execution_count": 12
        },
        {
          "output_type": "display_data",
          "data": {
            "text/plain": [
              "<Figure size 640x480 with 1 Axes>"
            ],
            "image/png": "[encoded data removed]"
          },
          "metadata": {}
        }
      ]
    },
    {
      "cell_type": "markdown",
      "source": [
        "# **5. Reflection:**"
      ],
      "metadata": {
        "id": "ZGC-LSc5O6CE"
      }
    },
    {
      "cell_type": "markdown",
      "source": [
        "In medical diagnosis system, it is essential for the medical practisioners to understand the probability theory to imply in their decision making. Relying on data and probability helps with the accuracy of results in medical terms. The probability theory helps with the prediction of diseases and other complications within the human body and how high or low the possibility that we acquire it such problems."
      ],
      "metadata": {
        "id": "gqM0FB5sPBlR"
      }
    }
  ]
}